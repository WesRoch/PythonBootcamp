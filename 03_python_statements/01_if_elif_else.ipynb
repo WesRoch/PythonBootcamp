{
 "cells": [
  {
   "cell_type": "markdown",
   "metadata": {},
   "source": [
    "## If, Elif, Else Statements\n",
    "\n",
    " - used when we want certain code to execute when a particular condition has been met.\n",
    " - to control this flow of logic we use some key words:\n",
    "    - if;\n",
    "    - elif;\n",
    "    - else.\n",
    "<br><br>\n",
    " - control flow syntax makes uses of colons and indentation(**whitespaces**);\n",
    " <br>\n",
    "\n",
    "  - Syntax of an if/elif/else statement:\n",
    "    <br><br>\n",
    "    if **some_condition**:\n",
    "    <br>\n",
    "        # execute some code\n",
    "    <br>\n",
    "    elif **some_other_condition**:\n",
    "    <br>\n",
    "        # do something different\n",
    "    <br>\n",
    "    else **:**\n",
    "    <br>\n",
    "        # do something else"
   ]
  },
  {
   "cell_type": "code",
   "execution_count": null,
   "metadata": {},
   "outputs": [],
   "source": []
  }
 ],
 "metadata": {
  "language_info": {
   "name": "python"
  },
  "orig_nbformat": 4
 },
 "nbformat": 4,
 "nbformat_minor": 2
}
